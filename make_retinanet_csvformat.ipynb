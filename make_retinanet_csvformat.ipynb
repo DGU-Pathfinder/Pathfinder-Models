{
 "cells": [
  {
   "cell_type": "code",
   "execution_count": 5,
   "metadata": {},
   "outputs": [],
   "source": [
    "import pandas as pd\n",
    "import os\n",
    "\n",
    "train_ann=pd.read_csv('/home/irteam/junghye-dcloud-dir/pathfinder/pathfinder_ai/annotations_v2/train_total.csv')\n",
    "\n",
    "valid_ann=pd.read_csv('/home/irteam/junghye-dcloud-dir/pathfinder/pathfinder_ai/annotations_v2/valid_total.csv')\n",
    "\n",
    "test_ann=pd.read_csv('/home/irteam/junghye-dcloud-dir/pathfinder/pathfinder_ai/annotations_v2/test_total.csv')"
   ]
  },
  {
   "cell_type": "code",
   "execution_count": 8,
   "metadata": {},
   "outputs": [],
   "source": [
    "classes={\n",
    "    0:'Others',\n",
    "    1:'Porosity',\n",
    "    2:'Slag',\n",
    "    3:'Normal',\n",
    "}"
   ]
  },
  {
   "cell_type": "code",
   "execution_count": 23,
   "metadata": {},
   "outputs": [
    {
     "ename": "",
     "evalue": "",
     "output_type": "error",
     "traceback": [
      "\u001b[1;31mThe Kernel crashed while executing code in the the current cell or a previous cell. Please review the code in the cell(s) to identify a possible cause of the failure. Click <a href='https://aka.ms/vscodeJupyterKernelCrash'>here</a> for more info. View Jupyter <a href='command:jupyter.viewOutput'>log</a> for further details."
     ]
    }
   ],
   "source": [
    "import csv\n",
    "import os\n",
    "\n",
    "image_dir = '/home/irteam/junghye-dcloud-dir/pathfinder/data_contrast/before/Image'\n",
    "output_file = './annotations_v2/retinanet_test.csv'\n",
    "\n",
    "with open(output_file, 'w', newline='') as file:\n",
    "    writer = csv.writer(file)\n",
    "\n",
    "    for index, row in test_ann.iterrows():\n",
    "        image_path = os.path.join(image_dir, row['dataset'], row['image_name'])\n",
    "        bndbox = list(eval(row['bndbox']))\n",
    "        labels = list(eval(row['labels']))\n",
    "\n",
    "        if bndbox:\n",
    "            row_data = [image_path]\n",
    "            for bbox, label in zip(bndbox, labels):\n",
    "                # 각 바운딩 박스의 데이터와 레이블을 병합\n",
    "                row_data.extend(bbox + [classes[label]])\n",
    "            writer.writerow(row_data)\n",
    "        else:\n",
    "            # 바운딩 박스가 없는 경우\n",
    "            writer.writerow([image_path] + [''] * 5)\n",
    "\n"
   ]
  },
  {
   "cell_type": "code",
   "execution_count": null,
   "metadata": {},
   "outputs": [],
   "source": []
  }
 ],
 "metadata": {
  "kernelspec": {
   "display_name": "pixt",
   "language": "python",
   "name": "pixt"
  },
  "language_info": {
   "codemirror_mode": {
    "name": "ipython",
    "version": 3
   },
   "file_extension": ".py",
   "mimetype": "text/x-python",
   "name": "python",
   "nbconvert_exporter": "python",
   "pygments_lexer": "ipython3",
   "version": "3.10.12"
  }
 },
 "nbformat": 4,
 "nbformat_minor": 2
}
