{
 "cells": [
  {
   "cell_type": "markdown",
   "metadata": {},
   "source": [
    "위에 텍스트 있는 사진 찾기"
   ]
  },
  {
   "cell_type": "code",
   "execution_count": 8,
   "metadata": {},
   "outputs": [
    {
     "name": "stdout",
     "output_type": "stream",
     "text": [
      "./data/data_contrast_before/Image/Others/6054-003175-1.jpg에 텍스트 있음\n",
      "./data/data_contrast_before/Image/Others/6054-040837-1.jpg에 텍스트 있음\n",
      "./data/data_contrast_before/Image/Others/j121-2.jpg에 텍스트 있음\n",
      "./data/data_contrast_before/Image/Porosity/6054-000529-A1-1.jpg에 텍스트 있음\n",
      "./data/data_contrast_before/Image/Porosity/6054-002716-A1-1.jpg에 텍스트 있음\n",
      "./data/data_contrast_before/Image/Porosity/6054-003175-1.jpg에 텍스트 있음\n",
      "./data/data_contrast_before/Image/Porosity/6054-003177-1.jpg에 텍스트 있음\n",
      "./data/data_contrast_before/Image/Porosity/6054-003177-2.jpg에 텍스트 있음\n",
      "./data/data_contrast_before/Image/Porosity/6054-020796-1.jpg에 텍스트 있음\n",
      "./data/data_contrast_before/Image/Porosity/6054-035966-R1-1-1.jpg에 텍스트 있음\n",
      "./data/data_contrast_before/Image/Porosity/6054-038086-1.jpg에 텍스트 있음\n",
      "./data/data_contrast_before/Image/Porosity/6054-039680-1.jpg에 텍스트 있음\n",
      "./data/data_contrast_before/Image/Porosity/h122-1.jpg에 텍스트 있음\n",
      "./data/data_contrast_before/Image/Slag/s13-2.jpg에 텍스트 있음\n",
      "./data/data_contrast_before/Image/Slag/s13-3.jpg에 텍스트 있음\n"
     ]
    }
   ],
   "source": [
    "import easyocr\n",
    "import glob\n",
    "import cv2\n",
    "import numpy as np\n",
    "import os\n",
    "\n",
    "reader=easyocr.Reader(['en'],gpu=True)\n",
    "\n",
    "image_path='./data/data_contrast_before/Image/'\n",
    "\n",
    "\n",
    "cls_names=['Others','Porosity','Slag']\n",
    "\n",
    "uptext_exists=[]\n",
    "\n",
    "for cls_name in cls_names:\n",
    "    \n",
    "    image_paths=glob.glob(image_path + cls_name+'/*.jpg')\n",
    "\n",
    "    \n",
    "    for img_path in image_paths:\n",
    "        \n",
    "        results=reader.readtext(img_path)\n",
    "        \n",
    "        if not results:\n",
    "            continue\n",
    "        \n",
    "        min_y = 99999  # 임의의 큰 수로 초기화\n",
    "        threshold = 90\n",
    "        text_found = False\n",
    "\n",
    "        for detection in results:\n",
    "            top_left = tuple(map(int, detection[0][0]))\n",
    "            if top_left[1] < min_y and top_left[1] > threshold:\n",
    "                min_y = top_left[1]\n",
    "                text_found = True\n",
    "        \n",
    "        if text_found:\n",
    "            print(f'{img_path}에 텍스트 있음')\n",
    "            uptext_exists.append(img_path)\n",
    "            "
   ]
  },
  {
   "cell_type": "code",
   "execution_count": 9,
   "metadata": {},
   "outputs": [
    {
     "data": {
      "text/plain": [
       "15"
      ]
     },
     "execution_count": 9,
     "metadata": {},
     "output_type": "execute_result"
    }
   ],
   "source": [
    "len(uptext_exists)"
   ]
  },
  {
   "cell_type": "code",
   "execution_count": 10,
   "metadata": {},
   "outputs": [
    {
     "data": {
      "text/plain": [
       "['./data/data_contrast_before/Image/Others/6054-003175-1.jpg',\n",
       " './data/data_contrast_before/Image/Others/6054-040837-1.jpg',\n",
       " './data/data_contrast_before/Image/Others/j121-2.jpg',\n",
       " './data/data_contrast_before/Image/Porosity/6054-000529-A1-1.jpg',\n",
       " './data/data_contrast_before/Image/Porosity/6054-002716-A1-1.jpg',\n",
       " './data/data_contrast_before/Image/Porosity/6054-003175-1.jpg',\n",
       " './data/data_contrast_before/Image/Porosity/6054-003177-1.jpg',\n",
       " './data/data_contrast_before/Image/Porosity/6054-003177-2.jpg',\n",
       " './data/data_contrast_before/Image/Porosity/6054-020796-1.jpg',\n",
       " './data/data_contrast_before/Image/Porosity/6054-035966-R1-1-1.jpg',\n",
       " './data/data_contrast_before/Image/Porosity/6054-038086-1.jpg',\n",
       " './data/data_contrast_before/Image/Porosity/6054-039680-1.jpg',\n",
       " './data/data_contrast_before/Image/Porosity/h122-1.jpg',\n",
       " './data/data_contrast_before/Image/Slag/s13-2.jpg',\n",
       " './data/data_contrast_before/Image/Slag/s13-3.jpg']"
      ]
     },
     "execution_count": 10,
     "metadata": {},
     "output_type": "execute_result"
    }
   ],
   "source": [
    "uptext_exists"
   ]
  },
  {
   "cell_type": "markdown",
   "metadata": {},
   "source": [
    "Annotation_merged 만들기"
   ]
  },
  {
   "cell_type": "code",
   "execution_count": 62,
   "metadata": {},
   "outputs": [
    {
     "name": "stdout",
     "output_type": "stream",
     "text": [
      "텍스트 제외 전 :2289\n"
     ]
    }
   ],
   "source": [
    "import pandas as pd\n",
    "from pathlib import Path\n",
    "import os\n",
    "\n",
    "image_path='./data/data_contrast_before/Image/'\n",
    "\n",
    "cls_names=['Others','Porosity','Slag']\n",
    "total_paths=[]\n",
    "\n",
    "for cls_name in cls_names:\n",
    "    \n",
    "    image_paths=glob.glob(image_path + cls_name+'/*.jpg')\n",
    "    total_paths.extend(image_paths)\n",
    "\n",
    "df=pd.DataFrame(columns=['dataset','image_number','image_name','bndbox','labels','img_shape'])\n",
    "print(f'텍스트 제외 전 :{len(total_paths)}')"
   ]
  },
  {
   "cell_type": "code",
   "execution_count": 63,
   "metadata": {},
   "outputs": [
    {
     "name": "stdout",
     "output_type": "stream",
     "text": [
      "텍스트 있는 사진: 15, 텍스트 제외 사진 : 2274\n"
     ]
    }
   ],
   "source": [
    "total_paths=[path for path in total_paths if path not in uptext_exists]\n",
    "print(f'텍스트 있는 사진: {len(uptext_exists)}, 텍스트 제외 사진 : {len(total_paths)}')"
   ]
  },
  {
   "cell_type": "code",
   "execution_count": 64,
   "metadata": {},
   "outputs": [],
   "source": [
    "df['dataset']=[str(path).split('/')[-2] for path in total_paths]\n",
    "\n",
    "df['image_number']=list(range(1,len(total_paths)+1))\n",
    "\n",
    "df['image_name']=[os.path.basename(str(path)) for path in total_paths]\n",
    "\n"
   ]
  },
  {
   "cell_type": "code",
   "execution_count": 65,
   "metadata": {},
   "outputs": [
    {
     "data": {
      "text/html": [
       "<div>\n",
       "<style scoped>\n",
       "    .dataframe tbody tr th:only-of-type {\n",
       "        vertical-align: middle;\n",
       "    }\n",
       "\n",
       "    .dataframe tbody tr th {\n",
       "        vertical-align: top;\n",
       "    }\n",
       "\n",
       "    .dataframe thead th {\n",
       "        text-align: right;\n",
       "    }\n",
       "</style>\n",
       "<table border=\"1\" class=\"dataframe\">\n",
       "  <thead>\n",
       "    <tr style=\"text-align: right;\">\n",
       "      <th></th>\n",
       "      <th>dataset</th>\n",
       "      <th>image_number</th>\n",
       "      <th>image_name</th>\n",
       "      <th>bndbox</th>\n",
       "      <th>labels</th>\n",
       "      <th>img_shape</th>\n",
       "    </tr>\n",
       "  </thead>\n",
       "  <tbody>\n",
       "    <tr>\n",
       "      <th>0</th>\n",
       "      <td>Others</td>\n",
       "      <td>1</td>\n",
       "      <td>6054-000130-1.jpg</td>\n",
       "      <td>NaN</td>\n",
       "      <td>NaN</td>\n",
       "      <td>NaN</td>\n",
       "    </tr>\n",
       "    <tr>\n",
       "      <th>1</th>\n",
       "      <td>Others</td>\n",
       "      <td>2</td>\n",
       "      <td>6054-000130-1-2.jpg</td>\n",
       "      <td>NaN</td>\n",
       "      <td>NaN</td>\n",
       "      <td>NaN</td>\n",
       "    </tr>\n",
       "    <tr>\n",
       "      <th>2</th>\n",
       "      <td>Others</td>\n",
       "      <td>3</td>\n",
       "      <td>6054-000134-1-1.jpg</td>\n",
       "      <td>NaN</td>\n",
       "      <td>NaN</td>\n",
       "      <td>NaN</td>\n",
       "    </tr>\n",
       "    <tr>\n",
       "      <th>3</th>\n",
       "      <td>Others</td>\n",
       "      <td>4</td>\n",
       "      <td>6054-000134-1-2.jpg</td>\n",
       "      <td>NaN</td>\n",
       "      <td>NaN</td>\n",
       "      <td>NaN</td>\n",
       "    </tr>\n",
       "    <tr>\n",
       "      <th>4</th>\n",
       "      <td>Others</td>\n",
       "      <td>5</td>\n",
       "      <td>6054-001180-A1-1.jpg</td>\n",
       "      <td>NaN</td>\n",
       "      <td>NaN</td>\n",
       "      <td>NaN</td>\n",
       "    </tr>\n",
       "  </tbody>\n",
       "</table>\n",
       "</div>"
      ],
      "text/plain": [
       "  dataset  image_number            image_name bndbox labels img_shape\n",
       "0  Others             1     6054-000130-1.jpg    NaN    NaN       NaN\n",
       "1  Others             2   6054-000130-1-2.jpg    NaN    NaN       NaN\n",
       "2  Others             3   6054-000134-1-1.jpg    NaN    NaN       NaN\n",
       "3  Others             4   6054-000134-1-2.jpg    NaN    NaN       NaN\n",
       "4  Others             5  6054-001180-A1-1.jpg    NaN    NaN       NaN"
      ]
     },
     "execution_count": 65,
     "metadata": {},
     "output_type": "execute_result"
    }
   ],
   "source": [
    "df.head()"
   ]
  },
  {
   "cell_type": "code",
   "execution_count": 66,
   "metadata": {},
   "outputs": [],
   "source": [
    "import xml.etree.ElementTree as Et\n",
    "from xml.etree.ElementTree import Element, ElementTree\n",
    "\n",
    "bndbox_list=[]\n",
    "imgshape_list=[]\n",
    "label_list=[]\n",
    "\n",
    "for path in total_paths:\n",
    "    xml_path=str(path).replace('Image','Label').replace('jpg','xml')\n",
    "    img_size=[]\n",
    "    bboxes=[]\n",
    "    labels=[]\n",
    "    with open(xml_path,'r') as xml:\n",
    "        tree=Et.parse(xml)\n",
    "        root=tree.getroot()\n",
    "        \n",
    "        objects=root.findall('object')\n",
    "        sizes=root.findall('size')\n",
    "        \n",
    "        for size in sizes:\n",
    "            img_size.append(size.find('width').text)\n",
    "            img_size.append(size.find('height').text)\n",
    "            \n",
    "        for obj in objects:\n",
    "            defect_type=obj.find('name').text\n",
    "            if defect_type=='Others':\n",
    "                defect_type=0\n",
    "            elif defect_type=='Porosity' or defect_type=='Porotisy':\n",
    "                defect_type=1\n",
    "            elif defect_type=='Slag' or defect_type=='slag inclusion':\n",
    "                #print(defect_type)\n",
    "                defect_type=2\n",
    "                \n",
    "            bndbox=obj.find('bndbox')\n",
    "            xmin = int(bndbox.find(\"xmin\").text)\n",
    "            ymin = int(bndbox.find(\"ymin\").text)\n",
    "            xmax = int(bndbox.find(\"xmax\").text)\n",
    "            ymax = int(bndbox.find(\"ymax\").text)\n",
    "            \n",
    "            bboxes.append([xmin,ymin,xmax,ymax])\n",
    "            labels.append(defect_type)\n",
    "        \n",
    "        bndbox_list.append(bboxes)\n",
    "        imgshape_list.append(img_size)\n",
    "        label_list.append(labels)"
   ]
  },
  {
   "cell_type": "markdown",
   "metadata": {},
   "source": [
    "주의 : Label/Slag 폴더에 (no_object) 라고 되어 있는 파일명에서 (no_object 지우기)..."
   ]
  },
  {
   "cell_type": "code",
   "execution_count": 67,
   "metadata": {},
   "outputs": [],
   "source": [
    "df['bndbox']=bndbox_list\n",
    "df['img_shape']=imgshape_list\n",
    "df['labels']=label_list"
   ]
  },
  {
   "cell_type": "code",
   "execution_count": 68,
   "metadata": {},
   "outputs": [
    {
     "data": {
      "text/plain": [
       "Index(['dataset', 'image_number', 'image_name', 'bndbox', 'labels',\n",
       "       'img_shape'],\n",
       "      dtype='object')"
      ]
     },
     "execution_count": 68,
     "metadata": {},
     "output_type": "execute_result"
    }
   ],
   "source": [
    "df.columns"
   ]
  },
  {
   "cell_type": "code",
   "execution_count": 71,
   "metadata": {},
   "outputs": [
    {
     "data": {
      "text/html": [
       "<div>\n",
       "<style scoped>\n",
       "    .dataframe tbody tr th:only-of-type {\n",
       "        vertical-align: middle;\n",
       "    }\n",
       "\n",
       "    .dataframe tbody tr th {\n",
       "        vertical-align: top;\n",
       "    }\n",
       "\n",
       "    .dataframe thead th {\n",
       "        text-align: right;\n",
       "    }\n",
       "</style>\n",
       "<table border=\"1\" class=\"dataframe\">\n",
       "  <thead>\n",
       "    <tr style=\"text-align: right;\">\n",
       "      <th></th>\n",
       "      <th>dataset</th>\n",
       "      <th>image_number</th>\n",
       "      <th>image_name</th>\n",
       "      <th>bndbox</th>\n",
       "      <th>labels</th>\n",
       "      <th>img_shape</th>\n",
       "    </tr>\n",
       "  </thead>\n",
       "  <tbody>\n",
       "    <tr>\n",
       "      <th>0</th>\n",
       "      <td>Others</td>\n",
       "      <td>1</td>\n",
       "      <td>6054-000130-1.jpg</td>\n",
       "      <td>[[2519, 144, 2626, 188]]</td>\n",
       "      <td>[2]</td>\n",
       "      <td>[2980, 813]</td>\n",
       "    </tr>\n",
       "    <tr>\n",
       "      <th>1</th>\n",
       "      <td>Others</td>\n",
       "      <td>2</td>\n",
       "      <td>6054-000130-1-2.jpg</td>\n",
       "      <td>[[325, 346, 359, 374], [638, 293, 727, 332]]</td>\n",
       "      <td>[1, 2]</td>\n",
       "      <td>[2987, 823]</td>\n",
       "    </tr>\n",
       "    <tr>\n",
       "      <th>2</th>\n",
       "      <td>Others</td>\n",
       "      <td>3</td>\n",
       "      <td>6054-000134-1-1.jpg</td>\n",
       "      <td>[[469, 227, 584, 313]]</td>\n",
       "      <td>[2]</td>\n",
       "      <td>[1450, 826]</td>\n",
       "    </tr>\n",
       "    <tr>\n",
       "      <th>3</th>\n",
       "      <td>Others</td>\n",
       "      <td>4</td>\n",
       "      <td>6054-000134-1-2.jpg</td>\n",
       "      <td>[[963, 176, 1015, 237]]</td>\n",
       "      <td>[0]</td>\n",
       "      <td>[1486, 832]</td>\n",
       "    </tr>\n",
       "    <tr>\n",
       "      <th>4</th>\n",
       "      <td>Others</td>\n",
       "      <td>5</td>\n",
       "      <td>6054-001180-A1-1.jpg</td>\n",
       "      <td>[[950, 267, 1037, 301], [153, 301, 747, 341]]</td>\n",
       "      <td>[2, 2]</td>\n",
       "      <td>[3039, 859]</td>\n",
       "    </tr>\n",
       "  </tbody>\n",
       "</table>\n",
       "</div>"
      ],
      "text/plain": [
       "  dataset  image_number            image_name  \\\n",
       "0  Others             1     6054-000130-1.jpg   \n",
       "1  Others             2   6054-000130-1-2.jpg   \n",
       "2  Others             3   6054-000134-1-1.jpg   \n",
       "3  Others             4   6054-000134-1-2.jpg   \n",
       "4  Others             5  6054-001180-A1-1.jpg   \n",
       "\n",
       "                                          bndbox  labels    img_shape  \n",
       "0                       [[2519, 144, 2626, 188]]     [2]  [2980, 813]  \n",
       "1   [[325, 346, 359, 374], [638, 293, 727, 332]]  [1, 2]  [2987, 823]  \n",
       "2                         [[469, 227, 584, 313]]     [2]  [1450, 826]  \n",
       "3                        [[963, 176, 1015, 237]]     [0]  [1486, 832]  \n",
       "4  [[950, 267, 1037, 301], [153, 301, 747, 341]]  [2, 2]  [3039, 859]  "
      ]
     },
     "execution_count": 71,
     "metadata": {},
     "output_type": "execute_result"
    }
   ],
   "source": [
    "df.head()"
   ]
  },
  {
   "cell_type": "code",
   "execution_count": 72,
   "metadata": {},
   "outputs": [],
   "source": [
    "df.to_csv('./data/annotations/annotations_total_merged.csv',index=False)"
   ]
  },
  {
   "cell_type": "markdown",
   "metadata": {},
   "source": [
    "train_valid_test split"
   ]
  },
  {
   "cell_type": "code",
   "execution_count": 73,
   "metadata": {},
   "outputs": [],
   "source": [
    "merged_df=pd.read_csv('./data/annotations/annotations_total_merged.csv')"
   ]
  },
  {
   "cell_type": "code",
   "execution_count": 74,
   "metadata": {},
   "outputs": [
    {
     "data": {
      "text/plain": [
       "(2274, 6)"
      ]
     },
     "execution_count": 74,
     "metadata": {},
     "output_type": "execute_result"
    }
   ],
   "source": [
    "merged_df.shape"
   ]
  },
  {
   "cell_type": "code",
   "execution_count": 75,
   "metadata": {},
   "outputs": [
    {
     "data": {
      "text/plain": [
       "((1819, 6), (455, 6))"
      ]
     },
     "execution_count": 75,
     "metadata": {},
     "output_type": "execute_result"
    }
   ],
   "source": [
    "# 8:1:1 로 나누기\n",
    "\n",
    "# 1819, 227,228\n",
    "\n",
    "train_df=merged_df.sample(n=1819)\n",
    "merged_df=merged_df.drop(train_df.index,axis=0,inplace=False)\n",
    "\n",
    "train_df.shape,merged_df.shape"
   ]
  },
  {
   "cell_type": "code",
   "execution_count": 76,
   "metadata": {},
   "outputs": [],
   "source": [
    "train_df = train_df.reset_index(drop=True)\n",
    "merged_df = merged_df.reset_index(drop=True)"
   ]
  },
  {
   "cell_type": "code",
   "execution_count": 77,
   "metadata": {},
   "outputs": [],
   "source": [
    "train_df.to_csv('./data/annotations/train_total.csv',index=False)"
   ]
  },
  {
   "cell_type": "code",
   "execution_count": 78,
   "metadata": {},
   "outputs": [
    {
     "data": {
      "text/plain": [
       "((227, 6), (228, 6))"
      ]
     },
     "execution_count": 78,
     "metadata": {},
     "output_type": "execute_result"
    }
   ],
   "source": [
    "# valid test split\n",
    "valid_df=merged_df.sample(n=227)\n",
    "merged_df=merged_df.drop(valid_df.index,axis=0,inplace=False)\n",
    "\n",
    "valid_df.shape,merged_df.shape"
   ]
  },
  {
   "cell_type": "code",
   "execution_count": 79,
   "metadata": {},
   "outputs": [],
   "source": [
    "valid_df.to_csv('./data/annotations/valid_total.csv',index=False)\n",
    "merged_df.to_csv('./data/annotations/test_total.csv',index=False)"
   ]
  }
 ],
 "metadata": {
  "kernelspec": {
   "display_name": "pixt",
   "language": "python",
   "name": "pixt"
  }
 },
 "nbformat": 4,
 "nbformat_minor": 2
}
